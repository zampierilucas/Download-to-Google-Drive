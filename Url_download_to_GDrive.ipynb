{
  "nbformat": 4,
  "nbformat_minor": 0,
  "metadata": {
    "colab": {
      "name": "Url download to GDrive",
      "provenance": [],
      "collapsed_sections": [],
      "authorship_tag": "ABX9TyMJ5OFX6E611xH1cTSrYyFo",
      "include_colab_link": true
    },
    "kernelspec": {
      "name": "python3",
      "display_name": "Python 3"
    },
    "accelerator": "GPU"
  },
  "cells": [
    {
      "cell_type": "markdown",
      "metadata": {
        "id": "view-in-github",
        "colab_type": "text"
      },
      "source": [
        "<a href=\"https://colab.research.google.com/github/zampierilucas/Download-to-Google-Drive/blob/master/Url_download_to_GDrive.ipynb\" target=\"_parent\"><img src=\"https://colab.research.google.com/assets/colab-badge.svg\" alt=\"Open In Colab\"/></a>"
      ]
    },
    {
      "cell_type": "markdown",
      "metadata": {
        "id": "oMwSJL6A28S2",
        "colab_type": "text"
      },
      "source": [
        "###Mount Google Drive"
      ]
    },
    {
      "cell_type": "code",
      "metadata": {
        "id": "cdCTtOWPQr62",
        "colab_type": "code",
        "colab": {}
      },
      "source": [
        "from google.colab import drive\n",
        "\n",
        "drive.mount(\"/content/drive\")"
      ],
      "execution_count": null,
      "outputs": []
    },
    {
      "cell_type": "markdown",
      "metadata": {
        "id": "RwSAkw5c3CIO",
        "colab_type": "text"
      },
      "source": [
        "###Install dependencies"
      ]
    },
    {
      "cell_type": "code",
      "metadata": {
        "id": "KAlZQGfc_Mez",
        "colab_type": "code",
        "colab": {}
      },
      "source": [
        "!pip install pySmartDL rarfile"
      ],
      "execution_count": null,
      "outputs": []
    },
    {
      "cell_type": "markdown",
      "metadata": {
        "id": "UCFAKXSs3OM0",
        "colab_type": "text"
      },
      "source": [
        "###Add URLs e Download"
      ]
    },
    {
      "cell_type": "code",
      "metadata": {
        "id": "Mnmqc89SIdi7",
        "colab_type": "code",
        "colab": {}
      },
      "source": [
        "import requests\n",
        "import sys\n",
        "import time\n",
        "import os\n",
        "import rarfile\n",
        "import shutil\n",
        "import zipfile\n",
        "from google.colab import drive\n",
        "from io import StringIO\n",
        "from pySmartDL import SmartDL\n",
        "\n",
        "\n",
        "def extract_compressed(source, dest):\n",
        "  if source.endswith(\".zip\"):\n",
        "    with zipfile.ZipFile(source, \"r\") as zip_ref:\n",
        "      zip_ref.extractall(path)\n",
        "\n",
        "  else:\n",
        "    with rarfile.RarFile(source, \"r\") as rar_ref:\n",
        "      rar_ref.extractall(path)\n",
        "\n",
        "  os.remove(source)\n",
        "\n",
        "def get_confirm_token(response):\n",
        "    for key, value in response.cookies.items():\n",
        "        if key.startswith('download_warning'):\n",
        "            return value\n",
        "\n",
        "# WIP\n",
        "def download_file_from_google_drive(id, destination):    \n",
        "    URL = \"https://docs.google.com/uc?export=download\"\n",
        "\n",
        "    session = requests.Session()\n",
        "\n",
        "    response = session.get(URL, params = { 'id' : id }, stream = True)\n",
        "    token = get_confirm_token(response)\n",
        "\n",
        "    if token:\n",
        "        params = { 'id' : id, 'confirm' : token }\n",
        "        response = session.get(URL, params = params, stream = True)\n",
        "\n",
        "downloads = []\n",
        "path = \"/content/drive/My Drive/Downloads/\"\n",
        "\n",
        "if not os.path.exists(path):\n",
        "    os.makedirs(path)\n",
        "\n",
        "while True:\n",
        "    link = input(\"Enter URL Or Type Exit: \")\n",
        "    if link.lower() == \"exit\":\n",
        "        break\n",
        "    downloads.append(link)\n",
        "\n",
        "sys.stdout.write(\"Downloading\\n\")\n",
        "\n",
        "while downloads:\n",
        "\n",
        "    file_name = (downloads[0].split(\"/\")[-1]).replace(\"%20\",\" \")\n",
        "\n",
        "    obj = SmartDL(downloads, progress_bar=False)\n",
        "    obj.start(blocking=False)\n",
        "\n",
        "    while not obj.isFinished():\n",
        "      if obj.get_status() == \"downloading\":\n",
        "        sys.stdout.write(f\"\\rDownloading {file_name} {obj.get_progress_bar()} {obj.get_progress()*100:.2f}% {obj.get_dl_size(human=True)} {obj.get_speed(human=True)}   \")\n",
        "        time.sleep(0.5)\n",
        "\n",
        "      else:\n",
        "        sys.stdout.write(f\"\\rCombining {file_name}  \")\n",
        "        time.sleep(1)\n",
        "\n",
        "    if obj.isSuccessful():      \n",
        "      if file_name.endswith(('.zip', '.rar')):\n",
        "        sys.stdout.write(f\"\\rExtracting  {file_name} \")\n",
        "        extract_compressed(obj.get_dest(), path)\n",
        "      else:\n",
        "        destination = path + obj.get_dest().split(\"/\")[-1]\n",
        "        \n",
        "        if os.path.exists(destination):\n",
        "          sys.stdout.write(\"\\rRemoving file with the same name on destination\")\n",
        "          os.remove(destination)\n",
        "        \n",
        "        shutil.move(obj.get_dest(),path)\n",
        "          \n",
        "    else:\n",
        "        sys.stdout.write(\"There were some errors:\")\n",
        "        for e in obj.get_errors():\n",
        "                sys.stdout.write(str(e))\n",
        "\n",
        "    sys.stdout.write(f\"\\r\\rCompleted {file_name} File size: {obj.get_dl_size(human=True)} Time taken: {obj.get_dl_time(human=True)}   \\n\")\n",
        "    del downloads[0]\n",
        "    \n",
        "sys.stdout.write(\"\\nAll downloads have been complete\")"
      ],
      "execution_count": null,
      "outputs": []
    },
    {
      "cell_type": "code",
      "metadata": {
        "id": "hRBaKDccMMdU",
        "colab_type": "code",
        "colab": {}
      },
      "source": [
        ""
      ],
      "execution_count": null,
      "outputs": []
    }
  ]
}