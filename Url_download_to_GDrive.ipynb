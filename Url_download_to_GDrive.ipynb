{
  "nbformat": 4,
  "nbformat_minor": 0,
  "metadata": {
    "colab": {
      "name": "Url download to GDrive",
      "provenance": [],
      "collapsed_sections": [],
      "authorship_tag": "ABX9TyNOcuar/eZPmV+K4IHsr7q7",
      "include_colab_link": true
    },
    "kernelspec": {
      "name": "python3",
      "display_name": "Python 3"
    },
    "accelerator": "GPU"
  },
  "cells": [
    {
      "cell_type": "markdown",
      "metadata": {
        "id": "view-in-github",
        "colab_type": "text"
      },
      "source": [
        "<a href=\"https://colab.research.google.com/github/zampierilucas/Download-to-Google-Drive/blob/master/Url_download_to_GDrive.ipynb\" target=\"_parent\"><img src=\"https://colab.research.google.com/assets/colab-badge.svg\" alt=\"Open In Colab\"/></a>"
      ]
    },
    {
      "cell_type": "markdown",
      "metadata": {
        "id": "oMwSJL6A28S2",
        "colab_type": "text"
      },
      "source": [
        "###Mount Google Drive"
      ]
    },
    {
      "cell_type": "code",
      "metadata": {
        "id": "cdCTtOWPQr62",
        "colab_type": "code",
        "colab": {
          "base_uri": "https://localhost:8080/",
          "height": 122
        },
        "outputId": "5c25745e-8296-49aa-bbfa-f39363852513"
      },
      "source": [
        "from google.colab import drive\n",
        "\n",
        "drive.mount(\"/content/drive\")"
      ],
      "execution_count": 2,
      "outputs": [
        {
          "output_type": "stream",
          "text": [
            "Go to this URL in a browser: https://accounts.google.com/o/oauth2/auth?client_id=947318989803-6bn6qk8qdgf4n4g3pfee6491hc0brc4i.apps.googleusercontent.com&redirect_uri=urn%3aietf%3awg%3aoauth%3a2.0%3aoob&scope=email%20https%3a%2f%2fwww.googleapis.com%2fauth%2fdocs.test%20https%3a%2f%2fwww.googleapis.com%2fauth%2fdrive%20https%3a%2f%2fwww.googleapis.com%2fauth%2fdrive.photos.readonly%20https%3a%2f%2fwww.googleapis.com%2fauth%2fpeopleapi.readonly&response_type=code\n",
            "\n",
            "Enter your authorization code:\n",
            "··········\n",
            "Mounted at /content/drive\n"
          ],
          "name": "stdout"
        }
      ]
    },
    {
      "cell_type": "markdown",
      "metadata": {
        "id": "RwSAkw5c3CIO",
        "colab_type": "text"
      },
      "source": [
        "###Install dependencies"
      ]
    },
    {
      "cell_type": "code",
      "metadata": {
        "id": "KAlZQGfc_Mez",
        "colab_type": "code",
        "colab": {
          "base_uri": "https://localhost:8080/",
          "height": 119
        },
        "outputId": "ac18384b-9fac-4955-bc81-8a8bfc165b2b"
      },
      "source": [
        "!pip install pySmartDL rarfile"
      ],
      "execution_count": 3,
      "outputs": [
        {
          "output_type": "stream",
          "text": [
            "Collecting pySmartDL\n",
            "  Downloading https://files.pythonhosted.org/packages/5c/be/ea485e61e1e5c552fd1fdf90dc818e30661797085ca7df6483ca62923f3c/pySmartDL-1.3.3-py3-none-any.whl\n",
            "Collecting rarfile\n",
            "  Downloading https://files.pythonhosted.org/packages/95/f4/c92fab227c7457e3b76a4096ccb655ded9deac869849cb03afbe55dfdc1e/rarfile-4.0-py3-none-any.whl\n",
            "Installing collected packages: pySmartDL, rarfile\n",
            "Successfully installed pySmartDL-1.3.3 rarfile-4.0\n"
          ],
          "name": "stdout"
        }
      ]
    },
    {
      "cell_type": "markdown",
      "metadata": {
        "id": "UCFAKXSs3OM0",
        "colab_type": "text"
      },
      "source": [
        "###Add URLs e Download"
      ]
    },
    {
      "cell_type": "code",
      "metadata": {
        "id": "Mnmqc89SIdi7",
        "colab_type": "code",
        "colab": {
          "base_uri": "https://localhost:8080/",
          "height": 170
        },
        "outputId": "e2adf38b-4695-409d-bc39-39bfaf699de1"
      },
      "source": [
        "import requests\n",
        "import sys\n",
        "import time\n",
        "import os\n",
        "import rarfile\n",
        "import shutil\n",
        "import zipfile\n",
        "from google.colab import drive\n",
        "from io import StringIO\n",
        "from pySmartDL import SmartDL\n",
        "\n",
        "\n",
        "def extract_compressed(source, dest):\n",
        "  if source.endswith(\".zip\"):\n",
        "    with zipfile.ZipFile(source, \"r\") as zip_ref:\n",
        "      zip_ref.extractall(path)\n",
        "\n",
        "  else:\n",
        "    with rarfile.RarFile(source, \"r\") as rar_ref:\n",
        "      rar_ref.extractall(path)\n",
        "\n",
        "  os.remove(source)\n",
        "\n",
        "def get_confirm_token(response):\n",
        "    for key, value in response.cookies.items():\n",
        "        if key.startswith('download_warning'):\n",
        "            return value\n",
        "\n",
        "# WIP\n",
        "def download_file_from_google_drive(id, destination):    \n",
        "    URL = \"https://docs.google.com/uc?export=download\"\n",
        "\n",
        "    session = requests.Session()\n",
        "\n",
        "    response = session.get(URL, params = { 'id' : id }, stream = True)\n",
        "    token = get_confirm_token(response)\n",
        "\n",
        "    if token:\n",
        "        params = { 'id' : id, 'confirm' : token }\n",
        "        response = session.get(URL, params = params, stream = True)\n",
        "\n",
        "downloads = []\n",
        "path = \"/content/drive/My Drive/Downloads/\"\n",
        "\n",
        "if not os.path.exists(path):\n",
        "    os.makedirs(path)\n",
        "\n",
        "while False:\n",
        "    link = input(\"Enter URL Or Type Exit: \")\n",
        "    if link.lower() == \"exit\":\n",
        "        break\n",
        "    downloads.append(link)\n",
        "\n",
        "downloads.append(\"https://customsongscentral.b-cdn.net/CSC%20Monthly%20Pack%20-%20April%202019.rar\")\n",
        "downloads.append(\"https://customsongscentral.b-cdn.net/CSC%20Monthly%20Pack%20-%20August%202020.rar?v=3\")\n",
        "\n",
        "print(\"Downloading\\n\")\n",
        "\n",
        "while downloads:\n",
        "\n",
        "    file_name = (downloads[0].split(\"/\")[-1]).replace(\"%20\",\" \")\n",
        "\n",
        "    obj = SmartDL(downloads, progress_bar=False)\n",
        "    obj.start(blocking=False)\n",
        "\n",
        "    while not obj.isFinished():\n",
        "      if obj.get_status() == \"downloading\":\n",
        "        sys.stdout.write(f\"\\rDownloading {file_name} {obj.get_progress_bar()} {obj.get_progress()*100:.2f}% {obj.get_dl_size(human=True)} {obj.get_speed(human=True)}   \")\n",
        "        time.sleep(0.5)\n",
        "\n",
        "      else:\n",
        "        sys.stdout.write(f\"\\rCombining {file_name}  \")\n",
        "        time.sleep(1)\n",
        "\n",
        "    if obj.isSuccessful():      \n",
        "      if file_name.endswith(('.zip', '.rar')):\n",
        "        sys.stdout.write(f\"\\rExtracting  {file_name} \")\n",
        "        extract_compressed(obj.get_dest(), path)\n",
        "      else:\n",
        "        destination = path + obj.get_dest().split(\"/\")[-1]\n",
        "        \n",
        "        if os.path.exists(destination):\n",
        "          print(\"Removing file with the same name\")\n",
        "          os.remove(destination)\n",
        "        \n",
        "        shutil.move(obj.get_dest(),path)\n",
        "          \n",
        "    else:\n",
        "        print(\"There were some errors:\")\n",
        "        for e in obj.get_errors():\n",
        "                print(str(e))\n",
        "\n",
        "    sys.stdout.write(f\"\\rCompleted {file_name} File size: {obj.get_dl_size(human=True)} Time taken: {obj.get_dl_time(human=True)}   \\n\\n\")\n",
        "    del downloads[0]\n",
        "    \n",
        "print(\"\\nAll downloads have been complete\")"
      ],
      "execution_count": 15,
      "outputs": [
        {
          "output_type": "stream",
          "text": [
            "Downloading\n",
            "\n",
            "Completed CSC Monthly Pack - April 2019.rar File size: 198.7 MB Time taken: 3 seconds   \n",
            "\n",
            "Combining CSC Monthly Pack - August 2020.rar?v=3  Removing file with the same name\n",
            "Completed CSC Monthly Pack - August 2020.rar?v=3 File size: 512.5 MB Time taken: 6 seconds   \n",
            "\n",
            "\n",
            "All downloads have been complete\n"
          ],
          "name": "stdout"
        }
      ]
    },
    {
      "cell_type": "code",
      "metadata": {
        "id": "hRBaKDccMMdU",
        "colab_type": "code",
        "colab": {}
      },
      "source": [
        ""
      ],
      "execution_count": null,
      "outputs": []
    }
  ]
}