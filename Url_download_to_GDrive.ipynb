{
  "nbformat": 4,
  "nbformat_minor": 0,
  "metadata": {
    "colab": {
      "name": "Url download to GDrive",
      "provenance": [],
      "collapsed_sections": [],
      "authorship_tag": "ABX9TyOInv/ff8O8iH5bG5MwK9tF",
      "include_colab_link": true
    },
    "kernelspec": {
      "name": "python3",
      "display_name": "Python 3"
    },
    "accelerator": "GPU"
  },
  "cells": [
    {
      "cell_type": "markdown",
      "metadata": {
        "id": "view-in-github",
        "colab_type": "text"
      },
      "source": [
        "<a href=\"https://colab.research.google.com/github/zampierilucas/Download-to-Google-Drive/blob/master/Url_download_to_GDrive.ipynb\" target=\"_parent\"><img src=\"https://colab.research.google.com/assets/colab-badge.svg\" alt=\"Open In Colab\"/></a>"
      ]
    },
    {
      "cell_type": "code",
      "metadata": {
        "id": "cdCTtOWPQr62",
        "colab_type": "code",
        "colab": {
          "base_uri": "https://localhost:8080/",
          "height": 122
        },
        "outputId": "48f8ff1e-6aa5-4bb2-de65-26f99994d021"
      },
      "source": [
        "from google.colab import drive\n",
        "\n",
        "drive.mount(\"/content/drive\")"
      ],
      "execution_count": null,
      "outputs": [
        {
          "output_type": "stream",
          "text": [
            "Go to this URL in a browser: https://accounts.google.com/o/oauth2/auth?client_id=947318989803-6bn6qk8qdgf4n4g3pfee6491hc0brc4i.apps.googleusercontent.com&redirect_uri=urn%3aietf%3awg%3aoauth%3a2.0%3aoob&scope=email%20https%3a%2f%2fwww.googleapis.com%2fauth%2fdocs.test%20https%3a%2f%2fwww.googleapis.com%2fauth%2fdrive%20https%3a%2f%2fwww.googleapis.com%2fauth%2fdrive.photos.readonly%20https%3a%2f%2fwww.googleapis.com%2fauth%2fpeopleapi.readonly&response_type=code\n",
            "\n",
            "Enter your authorization code:\n",
            "··········\n",
            "Mounted at /content/drive\n"
          ],
          "name": "stdout"
        }
      ]
    },
    {
      "cell_type": "code",
      "metadata": {
        "id": "KAlZQGfc_Mez",
        "colab_type": "code",
        "colab": {
          "base_uri": "https://localhost:8080/",
          "height": 119
        },
        "outputId": "064b3e86-3560-41ca-814e-049ffcddfca4"
      },
      "source": [
        "!pip install pySmartDL rarfile"
      ],
      "execution_count": null,
      "outputs": [
        {
          "output_type": "stream",
          "text": [
            "Collecting pySmartDL\n",
            "  Downloading https://files.pythonhosted.org/packages/5c/be/ea485e61e1e5c552fd1fdf90dc818e30661797085ca7df6483ca62923f3c/pySmartDL-1.3.3-py3-none-any.whl\n",
            "Collecting rarfile\n",
            "  Downloading https://files.pythonhosted.org/packages/95/f4/c92fab227c7457e3b76a4096ccb655ded9deac869849cb03afbe55dfdc1e/rarfile-4.0-py3-none-any.whl\n",
            "Installing collected packages: pySmartDL, rarfile\n",
            "Successfully installed pySmartDL-1.3.3 rarfile-4.0\n"
          ],
          "name": "stdout"
        }
      ]
    },
    {
      "cell_type": "code",
      "metadata": {
        "id": "Mnmqc89SIdi7",
        "colab_type": "code",
        "colab": {
          "base_uri": "https://localhost:8080/",
          "height": 401
        },
        "outputId": "38148162-5178-4a76-df49-6e5c9edde71e"
      },
      "source": [
        "import requests\n",
        "import sys\n",
        "import time\n",
        "import os\n",
        "import rarfile\n",
        "import shutil\n",
        "import zipfile\n",
        "from google.colab import drive\n",
        "from io import StringIO\n",
        "from pySmartDL import SmartDL\n",
        "\n",
        "\n",
        "def extract_compressed(source, dest):\n",
        "  print(f'Extracting {source.split(\"/\")[-1]}')\n",
        "  \n",
        "  if source.endswith(\".zip\"):\n",
        "    with zipfile.ZipFile(source, \"r\") as zip_ref:\n",
        "      zip_ref.extractall(path)\n",
        "\n",
        "  else:\n",
        "    with rarfile.RarFile(source, \"r\") as rar_ref:\n",
        "      rar_ref.extractall(path)\n",
        "\n",
        "  os.remove(source)\n",
        "\n",
        "def get_confirm_token(response):\n",
        "    for key, value in response.cookies.items():\n",
        "        if key.startswith('download_warning'):\n",
        "            return value\n",
        "\n",
        "def download_file_from_google_drive(id, destination):\n",
        "    URL = \"https://docs.google.com/uc?export=download\"\n",
        "\n",
        "    session = requests.Session()\n",
        "\n",
        "    response = session.get(URL, params = { 'id' : id }, stream = True)\n",
        "    token = get_confirm_token(response)\n",
        "\n",
        "    if token:\n",
        "        params = { 'id' : id, 'confirm' : token }\n",
        "        response = session.get(URL, params = params, stream = True)\n",
        "\n",
        "\n",
        "\n",
        "downloads = []\n",
        "path = \"/content/drive/My Drive/Downloads/\"\n",
        "\n",
        "if not os.path.exists(path):\n",
        "    os.makedirs(path)\n",
        "\n",
        "while True:\n",
        "    link = input(\"Enter URL Or Type Exit: \")\n",
        "    if link.lower() == \"exit\":\n",
        "        break\n",
        "    downloads.append(link)\n",
        "\n",
        "\n",
        "while downloads:\n",
        "    print(\"Downloading\\n\")\n",
        "    # for index, url in enumerate(downloads[:]):\n",
        "    file_name = (url.split(\"/\")[-1]).replace(\"%20\",\" \")\n",
        "\n",
        "    obj = SmartDL(downloads, progress_bar=False)\n",
        "    obj.start(blocking=False)\n",
        "\n",
        "    while not obj.isFinished():\n",
        "      if obj.get_status() == \"downloading\":\n",
        "        sys.stdout.write(f\"\\rDownloading {file_name} {obj.get_progress_bar()} {obj.get_progress()*100:.2f}% {obj.get_dl_size(human=True)} {obj.get_speed(human=True)}   \")\n",
        "        time.sleep(0.5)\n",
        "\n",
        "      else:\n",
        "        sys.stdout.write(f'\\rCombining {file_name}')\n",
        "        time.sleep(1)\n",
        "\n",
        "      if obj.isSuccessful():\n",
        "        sys.stdout.write(f\"\\rCompleted {file_name} File size: {obj.get_dl_size(human=True)} Time taken: {obj.get_dl_time(human=True)}   \\n\")\n",
        "\n",
        "        if file_name.endswith(('.zip', '.rar')):\n",
        "          extract_compressed(obj.get_dest(), path)\n",
        "        else:\n",
        "          file_name = obj.get_dest().split(\"/\")[-1]\n",
        "          print(path+file_name)\n",
        "          if os.path.exists(path+file_name):\n",
        "            print(\"removeing\")\n",
        "            os.remove(path+file_name)\n",
        "          \n",
        "          shutil.move(obj.get_dest(),path)\n",
        "          \n",
        "    else:\n",
        "        print(\"There were some errors:\")\n",
        "        for e in obj.get_errors():\n",
        "                print(str(e))\n",
        "\n",
        "    # downloads.remove(url)\n",
        "    \n",
        "    print(\"\\nAll downloads have been complete\")"
      ],
      "execution_count": null,
      "outputs": [
        {
          "output_type": "stream",
          "text": [
            "Downloading\n",
            "\n",
            "Downloading 0B_nCPlFVZsuyVGJFdUktRHhFTEU?e=download&authuser=0&nonce=8g8407j7h6kf6&user=04550345432167730590&hash=r3mau12po8278go66lsp1dlekgeacgua [------------------] 0.00% 0 bytes 0 bytes/s   "
          ],
          "name": "stdout"
        },
        {
          "output_type": "error",
          "ename": "RuntimeError",
          "evalue": "ignored",
          "traceback": [
            "\u001b[0;31m---------------------------------------------------------------------------\u001b[0m",
            "\u001b[0;31mRuntimeError\u001b[0m                              Traceback (most recent call last)",
            "\u001b[0;32m<ipython-input-22-8fa0d24baeb1>\u001b[0m in \u001b[0;36m<module>\u001b[0;34m()\u001b[0m\n\u001b[1;32m     82\u001b[0m         \u001b[0mtime\u001b[0m\u001b[0;34m.\u001b[0m\u001b[0msleep\u001b[0m\u001b[0;34m(\u001b[0m\u001b[0;36m1\u001b[0m\u001b[0;34m)\u001b[0m\u001b[0;34m\u001b[0m\u001b[0;34m\u001b[0m\u001b[0m\n\u001b[1;32m     83\u001b[0m \u001b[0;34m\u001b[0m\u001b[0m\n\u001b[0;32m---> 84\u001b[0;31m       \u001b[0;32mif\u001b[0m \u001b[0mobj\u001b[0m\u001b[0;34m.\u001b[0m\u001b[0misSuccessful\u001b[0m\u001b[0;34m(\u001b[0m\u001b[0;34m)\u001b[0m\u001b[0;34m:\u001b[0m\u001b[0;34m\u001b[0m\u001b[0;34m\u001b[0m\u001b[0m\n\u001b[0m\u001b[1;32m     85\u001b[0m         \u001b[0msys\u001b[0m\u001b[0;34m.\u001b[0m\u001b[0mstdout\u001b[0m\u001b[0;34m.\u001b[0m\u001b[0mwrite\u001b[0m\u001b[0;34m(\u001b[0m\u001b[0;34mf\"\\rCompleted {file_name} File size: {obj.get_dl_size(human=True)} Time taken: {obj.get_dl_time(human=True)}   \\n\"\u001b[0m\u001b[0;34m)\u001b[0m\u001b[0;34m\u001b[0m\u001b[0;34m\u001b[0m\u001b[0m\n\u001b[1;32m     86\u001b[0m \u001b[0;34m\u001b[0m\u001b[0m\n",
            "\u001b[0;32m/usr/local/lib/python3.6/dist-packages/pySmartDL/pySmartDL.py\u001b[0m in \u001b[0;36misSuccessful\u001b[0;34m(self)\u001b[0m\n\u001b[1;32m    438\u001b[0m             \u001b[0mtime\u001b[0m\u001b[0;34m.\u001b[0m\u001b[0msleep\u001b[0m\u001b[0;34m(\u001b[0m\u001b[0;36m0.1\u001b[0m\u001b[0;34m)\u001b[0m\u001b[0;34m\u001b[0m\u001b[0;34m\u001b[0m\u001b[0m\n\u001b[1;32m    439\u001b[0m             \u001b[0;32mif\u001b[0m \u001b[0mn\u001b[0m \u001b[0;34m>=\u001b[0m \u001b[0;36m15\u001b[0m\u001b[0;34m:\u001b[0m\u001b[0;34m\u001b[0m\u001b[0;34m\u001b[0m\u001b[0m\n\u001b[0;32m--> 440\u001b[0;31m                 \u001b[0;32mraise\u001b[0m \u001b[0mRuntimeError\u001b[0m\u001b[0;34m(\u001b[0m\u001b[0;34m\"The download task must be finished in order to see if it's successful. (current status is {})\"\u001b[0m\u001b[0;34m.\u001b[0m\u001b[0mformat\u001b[0m\u001b[0;34m(\u001b[0m\u001b[0mself\u001b[0m\u001b[0;34m.\u001b[0m\u001b[0mstatus\u001b[0m\u001b[0;34m)\u001b[0m\u001b[0;34m)\u001b[0m\u001b[0;34m\u001b[0m\u001b[0;34m\u001b[0m\u001b[0m\n\u001b[0m\u001b[1;32m    441\u001b[0m \u001b[0;34m\u001b[0m\u001b[0m\n\u001b[1;32m    442\u001b[0m         \u001b[0;32mreturn\u001b[0m \u001b[0;32mnot\u001b[0m \u001b[0mself\u001b[0m\u001b[0;34m.\u001b[0m\u001b[0m_failed\u001b[0m\u001b[0;34m\u001b[0m\u001b[0;34m\u001b[0m\u001b[0m\n",
            "\u001b[0;31mRuntimeError\u001b[0m: The download task must be finished in order to see if it's successful. (current status is downloading)"
          ]
        }
      ]
    },
    {
      "cell_type": "code",
      "metadata": {
        "id": "hRBaKDccMMdU",
        "colab_type": "code",
        "colab": {}
      },
      "source": [
        ""
      ],
      "execution_count": null,
      "outputs": []
    }
  ]
}